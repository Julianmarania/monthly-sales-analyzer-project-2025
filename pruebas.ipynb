{
 "cells": [
  {
   "cell_type": "code",
   "execution_count": 1,
   "metadata": {},
   "outputs": [],
   "source": [
    "sales_data = [\n",
    "    {\"day\": 1, \"product_a\": 202, \"product_b\": 142, \"product_c\": 164},\n",
    "    {\"day\": 2, \"product_a\": 206, \"product_b\": 121, \"product_c\": 338},\n",
    "    {\"day\": 3, \"product_a\": 120, \"product_b\": 152, \"product_c\": 271},\n",
    "    {\"day\": 4, \"product_a\": 174, \"product_b\": 137, \"product_c\": 266},\n",
    "    {\"day\": 5, \"product_a\": 199, \"product_b\": 153, \"product_c\": 301},\n",
    "    {\"day\": 6, \"product_a\": 230, \"product_b\": 199, \"product_c\": 202},\n",
    "    {\"day\": 7, \"product_a\": 101, \"product_b\": 137, \"product_c\": 307},\n",
    "    {\"day\": 8, \"product_a\": 137, \"product_b\": 179, \"product_c\": 341},\n",
    "    {\"day\": 9, \"product_a\": 287, \"product_b\": 70, \"product_c\": 310},\n",
    "    {\"day\": 10, \"product_a\": 157, \"product_b\": 71, \"product_c\": 238},\n",
    "    {\"day\": 11, \"product_a\": 148, \"product_b\": 108, \"product_c\": 319},\n",
    "    {\"day\": 12, \"product_a\": 287, \"product_b\": 64, \"product_c\": 339},\n",
    "    {\"day\": 13, \"product_a\": 289, \"product_b\": 100, \"product_c\": 257},\n",
    "    {\"day\": 14, \"product_a\": 154, \"product_b\": 113, \"product_c\": 280},\n",
    "    {\"day\": 15, \"product_a\": 150, \"product_b\": 184, \"product_c\": 170},\n",
    "    {\"day\": 16, \"product_a\": 172, \"product_b\": 67, \"product_c\": 281},\n",
    "    {\"day\": 17, \"product_a\": 188, \"product_b\": 109, \"product_c\": 163},\n",
    "    {\"day\": 18, \"product_a\": 108, \"product_b\": 139, \"product_c\": 202},\n",
    "    {\"day\": 19, \"product_a\": 229, \"product_b\": 133, \"product_c\": 241},\n",
    "    {\"day\": 20, \"product_a\": 210, \"product_b\": 57, \"product_c\": 324}\n",
    "]\n"
   ]
  },
  {
   "cell_type": "code",
   "execution_count": 46,
   "metadata": {},
   "outputs": [
    {
     "name": "stdout",
     "output_type": "stream",
     "text": [
      "Total sales of product_a: 3748\n"
     ]
    }
   ],
   "source": [
    "def total_sales_by_product(data, product_key):\n",
    "    \"\"\"Calculates the total sales of a specific product in 30 days.\"\"\"\n",
    "\n",
    "    suma = 0\n",
    "    for i in data:\n",
    "        valor = i[product_key] \n",
    "        suma += valor\n",
    "    return suma\n",
    "\n",
    "print(\"Total sales of product_a:\", total_sales_by_product(sales_data, \"product_a\"))"
   ]
  },
  {
   "cell_type": "code",
   "execution_count": 23,
   "metadata": {},
   "outputs": [
    {
     "name": "stdout",
     "output_type": "stream",
     "text": [
      "Average daily sales of product_b: 121.75\n"
     ]
    }
   ],
   "source": [
    "\n",
    "def average_daily_sales(data, product_key):\n",
    "    \"\"\"Calculates the average daily sales of a specific product.\"\"\"\n",
    "    suma = 0\n",
    "    for i in data:\n",
    "        valor = i[product_key]\n",
    "        suma += valor\n",
    "    return suma / len(data)\n",
    "\n",
    "print(\"Average daily sales of product_b:\", average_daily_sales(sales_data, \"product_b\"))"
   ]
  },
  {
   "cell_type": "code",
   "execution_count": 26,
   "metadata": {},
   "outputs": [
    {
     "name": "stdout",
     "output_type": "stream",
     "text": [
      "Average daily sales of product_b: 121.75\n"
     ]
    }
   ],
   "source": [
    "import statistics\n",
    "\n",
    "def average_daily_sales(data, product_key):\n",
    "    \"\"\"Calculates the average daily sales of a specific product.\"\"\"\n",
    "    valores = []\n",
    "    for i in data:\n",
    "        valores.append(i[product_key])\n",
    "        \n",
    "    return statistics.mean(valores)\n",
    "\n",
    "print(\"Average daily sales of product_b:\", average_daily_sales(sales_data, \"product_b\"))"
   ]
  },
  {
   "cell_type": "code",
   "execution_count": 38,
   "metadata": {},
   "outputs": [
    {
     "name": "stdout",
     "output_type": "stream",
     "text": [
      "Day with highest total sales: 12\n"
     ]
    }
   ],
   "source": [
    "def best_selling_day(data):\n",
    "    \"\"\"Finds the day with the highest total sales.\"\"\"\n",
    "    day_sales = []\n",
    "    for i in data:\n",
    "        total_day = i['product_a'] + i['product_b'] + i['product_c']\n",
    "        day_sales.append(total_day)\n",
    "    \n",
    "    max_index = day_sales.index(max(day_sales))\n",
    "    \n",
    "    best_day = data[max_index]['day']\n",
    "    \n",
    "    return best_day\n",
    "\n",
    "print(\"Day with highest total sales:\", best_selling_day(sales_data))"
   ]
  },
  {
   "cell_type": "code",
   "execution_count": null,
   "metadata": {},
   "outputs": [
    {
     "name": "stdout",
     "output_type": "stream",
     "text": [
      "Days when product_c exceeded 300 sales: [2, 5, 7, 8, 9, 11, 12, 20]\n"
     ]
    }
   ],
   "source": [
    "def days_above_threshold(data, product_key, threshold):\n",
    "    \"\"\"Counts how many days the sales of a product exceeded a given threshold.\"\"\"\n",
    "    day_sales_produt_c = []\n",
    "    for i in data:\n",
    "        total_day = i[product_key]\n",
    "        day_sales_produt_c.append(total_day)\n",
    "    \n",
    "    index_days = []\n",
    "    for e in day_sales_produt_c:\n",
    "        if e > threshold:\n",
    "            index_days.append(day_sales_produt_c.index(e))\n",
    "    \n",
    "    final_days = []\n",
    "    for x in index_days:\n",
    "        final_days.append(data[x]['day'])\n",
    "\n",
    "\n",
    "    return final_days\n",
    "\n",
    "print(\"Days when product_c exceeded 300 sales:\", days_above_threshold(sales_data, \"product_c\", 300))"
   ]
  },
  {
   "cell_type": "code",
   "execution_count": 44,
   "metadata": {},
   "outputs": [
    {
     "name": "stdout",
     "output_type": "stream",
     "text": [
      "Product with highest total sales: product_c\n"
     ]
    }
   ],
   "source": [
    "def top_product(data):\n",
    "    \"\"\"Determines which product had the highest total sales in 30 days.\"\"\"\n",
    "    sales_a = []\n",
    "    sales_b = []\n",
    "    sales_c = []\n",
    "\n",
    "    for i in data:\n",
    "        total_a = i['product_a']\n",
    "        sales_a.append(total_a)\n",
    "    \n",
    "    for i in data:\n",
    "        total_b = i['product_b']\n",
    "        sales_b.append(total_b)\n",
    "\n",
    "    for i in data:\n",
    "        total_c = i['product_c']\n",
    "        sales_c.append(total_c)\n",
    "\n",
    "    sum_a = sum(sales_a)\n",
    "    sum_b = sum(sales_b)\n",
    "    sum_c = sum(sales_c)\n",
    "\n",
    "    highest_sales = max(sum_a, sum_b, sum_c)\n",
    "\n",
    "    if highest_sales == sum_a:\n",
    "        return \"product_a\"\n",
    "    elif highest_sales == sum_b:\n",
    "        return \"product_b\"\n",
    "    else:\n",
    "        return \"product_c\"\n",
    "\n",
    "print(\"Product with highest total sales:\", top_product(sales_data))\n"
   ]
  },
  {
   "cell_type": "code",
   "execution_count": 45,
   "metadata": {},
   "outputs": [
    {
     "name": "stdout",
     "output_type": "stream",
     "text": [
      "El producto con mayores ventas es: product_c\n"
     ]
    }
   ],
   "source": [
    "def top_product(data):\n",
    "    \"\"\"Determines which product had the highest total sales in 30 days.\"\"\"\n",
    "    total_a = 0\n",
    "    total_b = 0\n",
    "    total_c = 0\n",
    "\n",
    "    for i in data:\n",
    "        total_a += i['product_a']\n",
    "    \n",
    "    for i in data:\n",
    "        total_b += i['product_b']\n",
    "\n",
    "    for i in data:\n",
    "        total_c += i['product_c']\n",
    "\n",
    "    highest_sales = max(total_a, total_b, total_c)\n",
    "\n",
    "    if highest_sales == total_a:\n",
    "        return \"product_a\"\n",
    "    elif highest_sales == total_b:\n",
    "        return \"product_b\"\n",
    "    else:\n",
    "        return \"product_c\"\n",
    "\n",
    "print(\"El producto con mayores ventas es:\", top_product(sales_data))"
   ]
  },
  {
   "cell_type": "code",
   "execution_count": null,
   "metadata": {},
   "outputs": [],
   "source": [
    "#### "
   ]
  }
 ],
 "metadata": {
  "kernelspec": {
   "display_name": "Python 3",
   "language": "python",
   "name": "python3"
  },
  "language_info": {
   "codemirror_mode": {
    "name": "ipython",
    "version": 3
   },
   "file_extension": ".py",
   "mimetype": "text/x-python",
   "name": "python",
   "nbconvert_exporter": "python",
   "pygments_lexer": "ipython3",
   "version": "3.11.9"
  }
 },
 "nbformat": 4,
 "nbformat_minor": 2
}
